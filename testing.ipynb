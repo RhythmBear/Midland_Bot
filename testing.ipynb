{
 "cells": [
  {
   "cell_type": "markdown",
   "id": "f560b24e-0018-48fb-8644-168a65ff09f8",
   "metadata": {},
   "source": [
    "## Testing bot for the Midland Automation sequence\n",
    "\n",
    "\n"
   ]
  },
  {
   "cell_type": "markdown",
   "id": "7c5842ee-62bb-4ef7-88a4-8f47e4d9318d",
   "metadata": {},
   "source": [
    "## Creating the bot instance\n"
   ]
  },
  {
   "cell_type": "code",
   "execution_count": 4,
   "id": "86e061b2-f534-41eb-b50c-ebc2ea98fcb1",
   "metadata": {},
   "outputs": [
    {
     "name": "stderr",
     "output_type": "stream",
     "text": [
      "2023-08-15 18:21:30,948 - INFO - Midland_logger - Successfully loaded Evidence page...\n",
      "2023-08-15 18:21:30,948 - INFO - Midland_logger - Successfully loaded Evidence page...\n"
     ]
    },
    {
     "name": "stdout",
     "output_type": "stream",
     "text": [
      "1\n",
      "Mandatory Proof Documents\n"
     ]
    },
    {
     "name": "stderr",
     "output_type": "stream",
     "text": [
      "2023-08-15 18:21:38,149 - INFO - Midland_logger - \n",
      "Card --> Photographic ID\n",
      "2023-08-15 18:21:38,149 - INFO - Midland_logger - \n",
      "Card --> Photographic ID\n",
      "2023-08-15 18:21:44,315 - INFO - Midland_logger - \n",
      "\n",
      "2023-08-15 18:21:44,315 - INFO - Midland_logger - \n",
      "\n",
      "2023-08-15 18:21:44,318 - INFO - Midland_logger - files_added : 0 \n",
      "files available : 2\n",
      "2023-08-15 18:21:44,318 - INFO - Midland_logger - files_added : 0 \n",
      "files available : 2\n",
      "2023-08-15 18:21:50,572 - INFO - Midland_logger - Successfully uploaded file: 1. Lorem-Ipsum.pdf for Photographic ID\n",
      "2023-08-15 18:21:50,572 - INFO - Midland_logger - Successfully uploaded file: 1. Lorem-Ipsum.pdf for Photographic ID\n",
      "2023-08-15 18:21:56,787 - INFO - Midland_logger - Successfully uploaded file: 2. photographic_id.pdf for Photographic ID\n",
      "2023-08-15 18:21:56,787 - INFO - Midland_logger - Successfully uploaded file: 2. photographic_id.pdf for Photographic ID\n",
      "2023-08-15 18:21:56,788 - INFO - Midland_logger - Uploaded all available files for Photographic ID\n",
      "2023-08-15 18:21:56,788 - INFO - Midland_logger - Uploaded all available files for Photographic ID\n",
      "2023-08-15 18:21:56,819 - INFO - Midland_logger - \n",
      "Card --> National Insurance Number\n",
      "2023-08-15 18:21:56,819 - INFO - Midland_logger - \n",
      "Card --> National Insurance Number\n",
      "2023-08-15 18:22:02,941 - INFO - Midland_logger - \n",
      "\n",
      "2023-08-15 18:22:02,941 - INFO - Midland_logger - \n",
      "\n",
      "2023-08-15 18:22:02,943 - INFO - Midland_logger - files_added : 0 \n",
      "files available : 2\n",
      "2023-08-15 18:22:02,943 - INFO - Midland_logger - files_added : 0 \n",
      "files available : 2\n",
      "2023-08-15 18:22:09,131 - INFO - Midland_logger - Successfully uploaded file: 1. Lorem-Ipsum.pdf for National Insurance Number\n",
      "2023-08-15 18:22:09,131 - INFO - Midland_logger - Successfully uploaded file: 1. Lorem-Ipsum.pdf for National Insurance Number\n",
      "2023-08-15 18:22:15,522 - INFO - Midland_logger - Successfully uploaded file: 2. national_insurance_numb... for National Insurance Number\n",
      "2023-08-15 18:22:15,522 - INFO - Midland_logger - Successfully uploaded file: 2. national_insurance_numb... for National Insurance Number\n",
      "2023-08-15 18:22:15,527 - INFO - Midland_logger - Uploaded all available files for National Insurance Number\n",
      "2023-08-15 18:22:15,527 - INFO - Midland_logger - Uploaded all available files for National Insurance Number\n",
      "2023-08-15 18:22:15,606 - INFO - Midland_logger - \n",
      "Card --> Birth Certificate\n",
      "2023-08-15 18:22:15,606 - INFO - Midland_logger - \n",
      "Card --> Birth Certificate\n",
      "2023-08-15 18:22:22,200 - INFO - Midland_logger - \n",
      "\n",
      "2023-08-15 18:22:22,200 - INFO - Midland_logger - \n",
      "\n",
      "2023-08-15 18:22:22,208 - INFO - Midland_logger - files_added : 0 \n",
      "files available : 2\n",
      "2023-08-15 18:22:22,208 - INFO - Midland_logger - files_added : 0 \n",
      "files available : 2\n",
      "2023-08-15 18:22:28,875 - INFO - Midland_logger - Successfully uploaded file: 1. Lorem-Ipsum.pdf for Birth Certificate\n",
      "2023-08-15 18:22:28,875 - INFO - Midland_logger - Successfully uploaded file: 1. Lorem-Ipsum.pdf for Birth Certificate\n",
      "2023-08-15 18:22:35,359 - INFO - Midland_logger - Successfully uploaded file: 2. Lorem-Ipsum.pdf for Birth Certificate\n",
      "2023-08-15 18:22:35,359 - INFO - Midland_logger - Successfully uploaded file: 2. Lorem-Ipsum.pdf for Birth Certificate\n",
      "2023-08-15 18:22:35,368 - INFO - Midland_logger - Uploaded all available files for Birth Certificate\n",
      "2023-08-15 18:22:35,368 - INFO - Midland_logger - Uploaded all available files for Birth Certificate\n",
      "2023-08-15 18:22:35,671 - INFO - Midland_logger - \n",
      "Card --> Proof Of Income\n",
      "2023-08-15 18:22:35,671 - INFO - Midland_logger - \n",
      "Card --> Proof Of Income\n",
      "2023-08-15 18:22:42,380 - INFO - Midland_logger - \n",
      "\n",
      "2023-08-15 18:22:42,380 - INFO - Midland_logger - \n",
      "\n",
      "2023-08-15 18:22:42,381 - INFO - Midland_logger - files_added : 0 \n",
      "files available : 2\n",
      "2023-08-15 18:22:42,381 - INFO - Midland_logger - files_added : 0 \n",
      "files available : 2\n",
      "2023-08-15 18:22:48,888 - INFO - Midland_logger - Successfully uploaded file: 1. Lorem-Ipsum.pdf for Proof Of Income\n",
      "2023-08-15 18:22:48,888 - INFO - Midland_logger - Successfully uploaded file: 1. Lorem-Ipsum.pdf for Proof Of Income\n",
      "2023-08-15 18:22:55,285 - INFO - Midland_logger - Successfully uploaded file: 2. proof_of_income.pdf for Proof Of Income\n",
      "2023-08-15 18:22:55,285 - INFO - Midland_logger - Successfully uploaded file: 2. proof_of_income.pdf for Proof Of Income\n",
      "2023-08-15 18:22:55,286 - INFO - Midland_logger - Uploaded all available files for Proof Of Income\n",
      "2023-08-15 18:22:55,286 - INFO - Midland_logger - Uploaded all available files for Proof Of Income\n"
     ]
    },
    {
     "name": "stdout",
     "output_type": "stream",
     "text": [
      "2\n",
      "Retirement Living\n"
     ]
    },
    {
     "name": "stderr",
     "output_type": "stream",
     "text": [
      "2023-08-15 18:23:00,444 - INFO - Midland_logger - \n",
      "Card --> Age designated households\n",
      "2023-08-15 18:23:00,444 - INFO - Midland_logger - \n",
      "Card --> Age designated households\n",
      "2023-08-15 18:23:06,589 - INFO - Midland_logger - All requirements have been fufilled for the Age designated households card\n",
      "2023-08-15 18:23:06,589 - INFO - Midland_logger - All requirements have been fufilled for the Age designated households card\n",
      "2023-08-15 18:23:06,626 - INFO - Midland_logger - \n",
      "Card --> Photographic ID\n",
      "2023-08-15 18:23:06,626 - INFO - Midland_logger - \n",
      "Card --> Photographic ID\n",
      "2023-08-15 18:23:12,757 - INFO - Midland_logger - All requirements have been fufilled for the Photographic ID card\n",
      "2023-08-15 18:23:12,757 - INFO - Midland_logger - All requirements have been fufilled for the Photographic ID card\n",
      "2023-08-15 18:23:12,814 - INFO - Midland_logger - \n",
      "Card --> National Insurance Number\n",
      "2023-08-15 18:23:12,814 - INFO - Midland_logger - \n",
      "Card --> National Insurance Number\n",
      "2023-08-15 18:23:18,957 - INFO - Midland_logger - All requirements have been fufilled for the National Insurance Number card\n",
      "2023-08-15 18:23:18,957 - INFO - Midland_logger - All requirements have been fufilled for the National Insurance Number card\n",
      "2023-08-15 18:23:18,992 - INFO - Midland_logger - \n",
      "Card --> Birth Certificate\n",
      "2023-08-15 18:23:18,992 - INFO - Midland_logger - \n",
      "Card --> Birth Certificate\n",
      "2023-08-15 18:23:25,178 - INFO - Midland_logger - All requirements have been fufilled for the Birth Certificate card\n",
      "2023-08-15 18:23:25,178 - INFO - Midland_logger - All requirements have been fufilled for the Birth Certificate card\n",
      "2023-08-15 18:23:25,220 - INFO - Midland_logger - \n",
      "Card --> Proof Of Income\n",
      "2023-08-15 18:23:25,220 - INFO - Midland_logger - \n",
      "Card --> Proof Of Income\n",
      "2023-08-15 18:23:31,367 - INFO - Midland_logger - All requirements have been fufilled for the Proof Of Income card\n",
      "2023-08-15 18:23:31,367 - INFO - Midland_logger - All requirements have been fufilled for the Proof Of Income card\n",
      "2023-08-15 18:23:42,004 - INFO - Midland_logger - Successfully loaded Contact page...\n",
      "2023-08-15 18:23:42,004 - INFO - Midland_logger - Successfully loaded Contact page...\n"
     ]
    },
    {
     "name": "stdout",
     "output_type": "stream",
     "text": [
      "Contact Details | Midland Heart Homes\n"
     ]
    },
    {
     "name": "stderr",
     "output_type": "stream",
     "text": [
      "2023-08-15 18:23:43,087 - INFO - Midland_logger - All Extra Stage requirements have been filled, Proceeding to next stage...\n",
      "2023-08-15 18:23:43,087 - INFO - Midland_logger - All Extra Stage requirements have been filled, Proceeding to next stage...\n",
      "2023-08-15 18:23:48,107 - INFO - Midland_logger - Successfully loaded Extra Information page...\n",
      "2023-08-15 18:23:48,107 - INFO - Midland_logger - Successfully loaded Extra Information page...\n",
      "2023-08-15 18:23:48,136 - INFO - Midland_logger - NI Number has been added to input.\n",
      "2023-08-15 18:23:48,136 - INFO - Midland_logger - NI Number has been added to input.\n"
     ]
    },
    {
     "name": "stdout",
     "output_type": "stream",
     "text": [
      "Extra Information | Midland Heart Homes\n"
     ]
    },
    {
     "name": "stderr",
     "output_type": "stream",
     "text": [
      "2023-08-15 18:23:49,248 - INFO - Midland_logger - All Extra Stage requirements have been filled, Proceeding to next stage...\n",
      "2023-08-15 18:23:49,248 - INFO - Midland_logger - All Extra Stage requirements have been filled, Proceeding to next stage...\n",
      "2023-08-15 18:23:54,269 - INFO - Midland_logger - Successfully loaded savings page...\n",
      "2023-08-15 18:23:54,269 - INFO - Midland_logger - Successfully loaded savings page...\n"
     ]
    },
    {
     "name": "stdout",
     "output_type": "stream",
     "text": [
      "Income and savings | Midland Heart Homes\n"
     ]
    },
    {
     "name": "stderr",
     "output_type": "stream",
     "text": [
      "2023-08-15 18:23:57,833 - INFO - Midland_logger - All Extra Stage requirements have been filled, Proceeding to next stage...\n",
      "2023-08-15 18:23:57,833 - INFO - Midland_logger - All Extra Stage requirements have been filled, Proceeding to next stage...\n",
      "2023-08-15 18:24:02,848 - INFO - Midland_logger - Successfully loaded Equality page...\n",
      "2023-08-15 18:24:02,848 - INFO - Midland_logger - Successfully loaded Equality page...\n"
     ]
    },
    {
     "name": "stdout",
     "output_type": "stream",
     "text": [
      "Equality information | Midland Heart Homes\n"
     ]
    },
    {
     "name": "stderr",
     "output_type": "stream",
     "text": [
      "2023-08-15 18:24:05,925 - INFO - Midland_logger - All Extra Stage requirements have been filled, Proceeding to next stage...\n",
      "2023-08-15 18:24:05,925 - INFO - Midland_logger - All Extra Stage requirements have been filled, Proceeding to next stage...\n"
     ]
    },
    {
     "name": "stdout",
     "output_type": "stream",
     "text": [
      "Equality information | Midland Heart Homes\n",
      "Confirm details | Midland Heart Homes\n"
     ]
    }
   ],
   "source": [
    "# from bot import MidlandBot\n",
    "# from selenium.webdriver.common.by import By\n",
    "\n",
    "# import time\n",
    "\n",
    "# monitored_listings = []\n",
    "# monitoring_id = 3317\n",
    "\n",
    "# # Create the bot class\n",
    "# test_bot = MidlandBot()\n",
    "\n",
    "# # Login to the Midland bot website\n",
    "# test_bot.login_to_website()\n",
    "\n",
    "# # open the page for all listings in birmingham within a 20 mile radius\n",
    "# test_bot.get_results_for_city()\n",
    "\n",
    "# # Monitor the listing with the given id and click on the button when the listing becomes available.\n",
    "# test_bot.send_message_to_telegram(f'\"Currently Monitoring Listing https://homes.midlandheart.org.uk/Search.PropertyDetails.aspx?PropertyId={monitoring_id}')\n",
    "# test_bot.monitor_listing(monitoring_id, 3)\n",
    "# time.sleep(3)\n",
    "\n",
    "# test_bot.pass_eligibility_stage()\n",
    "# time.sleep(5)\n",
    "# print(test_bot.driver.title)\n",
    "\n",
    "# test_bot.pass_preference_group()\n",
    "# time.sleep(5)\n",
    "# print(test_bot.driver.title)\n",
    "\n",
    "test_bot.pass_evidence_stage()\n",
    "time.sleep(5)\n",
    "print(test_bot.driver.title)\n",
    "\n",
    "test_bot.pass_contact_details()\n",
    "time.sleep(5)\n",
    "print(test_bot.driver.title)\n",
    "\n",
    "test_bot.pass_extra_stage(\"JB321623C\")\n",
    "time.sleep(5)\n",
    "print(test_bot.driver.title)\n",
    "\n",
    "test_bot.pass_savings_income_stage()\n",
    "time.sleep(5)\n",
    "print(test_bot.driver.title)\n",
    "\n",
    "test_bot.pass_equality_stage()\n",
    "time.sleep(5)\n",
    "print(test_bot.driver.title)\n",
    "\n",
    "test_bot.pass_confirm_details_stage()\n",
    "time.sleep(5)\n",
    "print(test_bot.driver.title)\n"
   ]
  },
  {
   "cell_type": "code",
   "execution_count": null,
   "id": "13a64d1f-32eb-49df-a120-1f55de7ec6da",
   "metadata": {},
   "outputs": [],
   "source": []
  },
  {
   "cell_type": "code",
   "execution_count": null,
   "id": "6210fa4d-017a-431d-95a9-525bb211a2cc",
   "metadata": {},
   "outputs": [],
   "source": [
    "# "
   ]
  },
  {
   "cell_type": "code",
   "execution_count": 4,
   "id": "a8c13f7a-caa9-4062-b0c6-944f1fc618be",
   "metadata": {},
   "outputs": [
    {
     "name": "stderr",
     "output_type": "stream",
     "text": [
      "2023-08-14 11:42:37,780 - INFO - Midland_logger - Successfully loaded Preference page...\n",
      "2023-08-14 11:42:37,811 - INFO - Midland_logger - Checking to see if all the Preference requirements have been filled...\n",
      "2023-08-14 11:42:37,884 - INFO - Midland_logger - All Preferences have been filled, Clicking button to proceed to next stage...\n"
     ]
    },
    {
     "name": "stdout",
     "output_type": "stream",
     "text": [
      "Preference groups | Midland Heart Homes\n",
      "Evidence | Midland Heart Homes\n"
     ]
    }
   ],
   "source": [
    "print(test_bot.driver.title)\n",
    "test_bot.pass_preference_group()\n",
    "print(test_bot.driver.title)"
   ]
  },
  {
   "cell_type": "code",
   "execution_count": 3,
   "id": "cfa88ae4-26ab-4e33-99cf-0ed9cbf4604f",
   "metadata": {},
   "outputs": [
    {
     "name": "stderr",
     "output_type": "stream",
     "text": [
      "2023-08-14 11:42:22,869 - INFO - Midland_logger - Successfully loaded Eligibility page...\n",
      "2023-08-14 11:42:22,906 - INFO - Midland_logger - Checking to see if all the requirements have been filled...\n",
      "2023-08-14 11:42:23,008 - INFO - Midland_logger - All requirements have been filled, Clicking button to proceed to next stage...\n"
     ]
    },
    {
     "name": "stdout",
     "output_type": "stream",
     "text": [
      "Eligibility questions | Midland Heart Homes\n",
      "Eligibility questions | Midland Heart Homes\n"
     ]
    }
   ],
   "source": [
    "print(test_bot.driver.title)\n",
    "test_bot.pass_eligibility_stage()\n",
    "print(test_bot.driver.title)"
   ]
  },
  {
   "cell_type": "code",
   "execution_count": 16,
   "id": "ab6a4a03-14bb-4408-9985-fb093868c71b",
   "metadata": {},
   "outputs": [
    {
     "name": "stdout",
     "output_type": "stream",
     "text": [
      "\n",
      "Card --> Photographic ID\n",
      "All requirements have been fufilled for the Photographic ID card\n",
      "\n",
      "Card --> Payslip\n",
      "All requirements have been fufilled for the Payslip card\n",
      "\n",
      "Card --> Voluntary Work\n",
      "All requirements have been fufilled for the Voluntary Work card\n",
      "\n",
      "Card --> Carer's proofs\n",
      "All requirements have been fufilled for the Carer's proofs card\n",
      "\n",
      "Card --> Proof of Child Benefit\n",
      "All requirements have been fufilled for the Proof of Child Benefit card\n",
      "\n",
      "Card --> Armed Forces Status\n",
      "All requirements have been fufilled for the Armed Forces Status card\n",
      "Evidence | Midland Heart Homes\n"
     ]
    }
   ],
   "source": [
    "from selenium.common.exceptions import NoSuchElementException\n",
    "\n",
    "# select all the headings and select them\n",
    "\n",
    "def trash_button_exists(driver):\n",
    "    try:\n",
    "        driver.find_element(By.XPATH, '//span[@class=\"fa fa-fw fa-trash-o fa-2x\"]')\n",
    "    except NoSuchElementException:\n",
    "        return False\n",
    "    else:\n",
    "        return True\n",
    "\n",
    "def get_files_uploaded(driver):\n",
    "    uploads = driver.find_elements(By.XPATH, './/span[@class=\"fa fa-fw fa-trash-o fa-2x\"]')\n",
    "    # print(uploads)\n",
    "    return len(uploads)\n",
    "\n",
    "def get_files_available(driver):\n",
    "    # Click the requirement and add the required file\n",
    "    driver.find_element(By.XPATH, './/span[@class=\"heading6\"]').click() \n",
    "    time.sleep(5)\n",
    "\n",
    "    # Wait till the close button in clickable\n",
    "    # test_bot.button_is_clickable('//span[@class=\"fa fa-fw fa-close fa-2x\"]', 10)\n",
    "    close_button = driver.find_element(By.XPATH, '//span[@class=\"fa fa-fw fa-close fa-2x\"]')\n",
    "    \n",
    "    avail_files = test_bot.driver.find_elements(By.XPATH, '//aside//input[@value=\"Add\"]')\n",
    "    # print(avail_files)\n",
    "    time.sleep(1)\n",
    "    close_button.click()\n",
    "    \n",
    "    return len(avail_files)\n",
    "\n",
    "def add_nth_item(driver, index):\n",
    "    # Click the card title to open the pop up for the files\n",
    "    driver.find_element(By.XPATH, './/span[@class=\"heading6\"]').click() \n",
    "    time.sleep(3)\n",
    "\n",
    "    # Get the list of available files\n",
    "    avail_files = driver.find_elements(By.XPATH, '//aside//input[@value=\"Add\"]')\n",
    "\n",
    "    # If there are no uploaded files \n",
    "    if avail_files == []:\n",
    "        return False    \n",
    "    # Get the item in the index given\n",
    "    item_to_select = avail_files[index]\n",
    "    item_to_select.click()\n",
    "    time.sleep(3)\n",
    "    return True\n",
    "\n",
    "\n",
    "def get_all_cards(driver):\n",
    "    return driver.find_elements(By.XPATH, '//div[@class=\"card\"]')\n",
    "\n",
    "def card_name(card):\n",
    "    return card.find_element(By.XPATH, './/span[@class=\"heading6\"]').text\n",
    "\n",
    "def get_latest_file_uploaded_to_card(card):\n",
    "    try:\n",
    "        uploaded_span = card.find_elements(By.XPATH, './/div[@class=\"padding-s ThemeGrid_Width6 ThemeGrid_MarginGutter\"]')[-1]\n",
    "        title_attribute = uploaded_span.text\n",
    "        return title_attribute\n",
    "    except NoSuchElementException:\n",
    "        return None\n",
    "    \n",
    "# # TODO1 CLick on Category \n",
    "# categories = test_bot.driver.find_elements(By.XPATH, '')\n",
    "\n",
    "# for category in categories:\n",
    "#     # Get the requirements card for each category and loop through them to select the files\n",
    "\n",
    "requirements_cards = get_all_cards(test_bot.driver)\n",
    "num_of_cards = len(requirements_cards)\n",
    "\n",
    "for i in range(num_of_cards):\n",
    "    current_card = get_all_cards(test_bot.driver)[i]\n",
    "    current_card_name = card_name(current_card)\n",
    "    print(f\"\\nCard --> {current_card_name}\")\n",
    "    # print(current_card.text)\n",
    "    files_uploaded = get_files_uploaded(current_card)\n",
    "    files_available = get_files_available(current_card)\n",
    "\n",
    "    if files_uploaded == files_available:\n",
    "        print(f\"All requirements have been fufilled for the {current_card_name} card\")\n",
    "        continue\n",
    "    print(\"\\n\")\n",
    "    print(f\"files_added : {files_uploaded} \\nfiles available : {files_available}\")\n",
    "\n",
    "    # loop through the number of available files and add each one.\n",
    "    for j in range(files_available):\n",
    "        current_card = get_all_cards(test_bot.driver)[i]\n",
    "        success = add_nth_item(current_card, j)\n",
    "        \n",
    "        # Check if the attempt to upload the files were succesful else\n",
    "        if success:\n",
    "            new_current_card = get_all_cards(test_bot.driver)[i]\n",
    "            name_of_file_added = get_latest_file_uploaded_to_card(new_current_card)\n",
    "            print(f\"Successfully uploaded file: {name_of_file_added} for {current_card_name}\")\n",
    "            files_uploaded += 1\n",
    "        else:\n",
    "            print(f\"There are no Uploaded files for {current_card_name}\")\n",
    "            \n",
    "    if files_uploaded == files_available:\n",
    "        print(f\"Uploaded all available files for {current_card_name}\")\n",
    "\n",
    "    # Check if all the files have been selected\n",
    "        \n",
    "    \n",
    "#     # Check if the file has not been selected yet i.e check for the bin icon\n",
    "#     # if not trash_button_exists(req_card) or num_files != 0:\n",
    "#     #     # Click the requirement and add the required file\n",
    "#     #     req_card.driver.find_element(By.XPATH, '//span[@class=\"heading6\"]').click()  \n",
    "\n",
    "#     #     # CLick the first add button visible\n",
    "#     #     test_bot.driver.find_elements(By.XPATH, '//aside//input[@value=\"Add\"]').click\n",
    "     \n",
    "    \n",
    "# Get all the requirements under each category, \n",
    "\n",
    "# requirements_card = test_bot.driver.find_elements(By.XPATH, '//div[@class=\"card\"]')\n",
    "# requirements = test_bot.driver.find_elements(By.XPATH, '//span[@class=\"heading6\"]')\n",
    "\n",
    "# # Check to make sure that the requirements has not automatically added the file to be uploaded, then click on the requirement to open upload popup\n",
    "\n",
    "# # Then Click on the add button for the files that are being displayed, ensure that the file exists before clicking on it. # Add button per pop up - //input[@value=\"Add\"]\n",
    "# add_file = test_bot.driver.find_elements(By.XPATH, '//input[@value=\"Add\"]')\n",
    "# # Check to make sure that everything has been selected\n",
    "continue_button = test_bot.driver.find_element(By.XPATH, '//input[@type=\"submit\" and @value=\"Continue\"]')\n",
    "if test_bot.button_is_clickable(button_xpath='//input[@type=\"submit\" and @value=\"Continue\"]'):\n",
    "    test_bot.logger.info(\"All requirements have been filled, Clicking button to proceed to next stage...\")\n",
    "\n",
    "    test_bot.interact_and_click(continue_button)\n",
    "    # return True\n",
    "\n",
    "print(test_bot.driver.title)\n"
   ]
  },
  {
   "cell_type": "code",
   "execution_count": 35,
   "id": "8d7f3193-756c-4045-af7c-96fb852936c5",
   "metadata": {},
   "outputs": [
    {
     "name": "stdout",
     "output_type": "stream",
     "text": [
      "[<selenium.webdriver.remote.webelement.WebElement (session=\"fc311f1fd96df6bbbb9f9029edcb90ff\", element=\"C586F3969BAB36D9BC0A56B1EE8BA26C_element_1043\")>, <selenium.webdriver.remote.webelement.WebElement (session=\"fc311f1fd96df6bbbb9f9029edcb90ff\", element=\"C586F3969BAB36D9BC0A56B1EE8BA26C_element_1044\")>]\n",
      "[<selenium.webdriver.remote.webelement.WebElement (session=\"fc311f1fd96df6bbbb9f9029edcb90ff\", element=\"C586F3969BAB36D9BC0A56B1EE8BA26C_element_1043\")>, <selenium.webdriver.remote.webelement.WebElement (session=\"fc311f1fd96df6bbbb9f9029edcb90ff\", element=\"C586F3969BAB36D9BC0A56B1EE8BA26C_element_1044\")>]\n",
      "1\n",
      "Working households or community contribution\n",
      "[<selenium.webdriver.remote.webelement.WebElement (session=\"fc311f1fd96df6bbbb9f9029edcb90ff\", element=\"C586F3969BAB36D9BC0A56B1EE8BA26C_element_1059\")>, <selenium.webdriver.remote.webelement.WebElement (session=\"fc311f1fd96df6bbbb9f9029edcb90ff\", element=\"C586F3969BAB36D9BC0A56B1EE8BA26C_element_1060\")>]\n",
      "2\n",
      "Mandatory Proof Documents\n"
     ]
    }
   ],
   "source": [
    "def get_top_cards():\n",
    "    top_cards_con = test_bot.driver.find_element(By.ID, \"MidlandHeartWeb_Theme_wt72_block_OutSystemsUIWeb_wt2_block_wtContent_wtMainContent_OutSystemsUIWeb_wt107_block_wtColumn1_wtGroupsList\")\n",
    "    # print(top_cards_con)\n",
    "\n",
    "    top_cards = top_cards_con.find_elements(By.XPATH, './/div[@class=\"margin-bottom-base\"]')\n",
    "    print(top_cards)\n",
    "    return top_cards\n",
    "all_top_cards = get_top_cards()\n",
    "\n",
    "for u in range(len(all_top_cards)):\n",
    "    alll_cards = get_top_cards()\n",
    "    active_top_card = alll_cards[u] \n",
    "    print(active_top_card.text)\n",
    "    test_bot.interact_and_click(active_top_card)\n",
    "    time.sleep(10)"
   ]
  },
  {
   "cell_type": "code",
   "execution_count": 8,
   "id": "2d7b594b-8a52-4712-87b4-e6dc5396bd42",
   "metadata": {},
   "outputs": [
    {
     "name": "stderr",
     "output_type": "stream",
     "text": [
      "2023-08-14 11:49:32,839 - INFO - Midland_logger - Successfully loaded Extra Information page...\n",
      "2023-08-14 11:49:32,897 - INFO - Midland_logger - NI Number has been added to input.\n",
      "2023-08-14 11:49:36,031 - INFO - Midland_logger - All Extra Stage requirements have been filled, Proceed to next stage...\n",
      "2023-08-14 11:49:41,050 - INFO - Midland_logger - Successfully loaded savings page...\n",
      "2023-08-14 11:49:47,343 - INFO - Midland_logger - All Extra Stage requirements have been filled, Proceed to next stage...\n",
      "2023-08-14 11:49:52,347 - INFO - Midland_logger - Successfully loaded Equality page...\n",
      "2023-08-14 11:49:55,485 - INFO - Midland_logger - All Extra Stage requirements have been filled, Proceeding to next stage...\n",
      "2023-08-14 11:50:00,498 - INFO - Midland_logger - Successfully loaded Confirm page...\n"
     ]
    },
    {
     "ename": "AttributeError",
     "evalue": "'WebElement' object has no attribute 'scroll'",
     "output_type": "error",
     "traceback": [
      "\u001b[1;31m---------------------------------------------------------------------------\u001b[0m",
      "\u001b[1;31mAttributeError\u001b[0m                            Traceback (most recent call last)",
      "Cell \u001b[1;32mIn[8], line 13\u001b[0m\n\u001b[0;32m     10\u001b[0m test_bot\u001b[38;5;241m.\u001b[39mpass_equality_stage()\n\u001b[0;32m     11\u001b[0m time\u001b[38;5;241m.\u001b[39msleep(\u001b[38;5;241m5\u001b[39m)\n\u001b[1;32m---> 13\u001b[0m \u001b[43mtest_bot\u001b[49m\u001b[38;5;241;43m.\u001b[39;49m\u001b[43mpass_confirm_details_stage\u001b[49m\u001b[43m(\u001b[49m\u001b[43m)\u001b[49m\n",
      "File \u001b[1;32m~\\PycharmProjects\\midland-heart-bot\\bot.py:689\u001b[0m, in \u001b[0;36mpass_confirm_details_stage\u001b[1;34m(self)\u001b[0m\n\u001b[0;32m    687\u001b[0m     \u001b[38;5;66;03m# The button is clickable.\u001b[39;00m\n\u001b[0;32m    688\u001b[0m     \u001b[38;5;28mself\u001b[39m\u001b[38;5;241m.\u001b[39minteract_and_click(continue_button)\n\u001b[1;32m--> 689\u001b[0m     \u001b[38;5;28;01mreturn\u001b[39;00m \u001b[38;5;28;01mTrue\u001b[39;00m\n\u001b[0;32m    690\u001b[0m \u001b[38;5;28;01melse\u001b[39;00m:\n\u001b[0;32m    691\u001b[0m     \u001b[38;5;28;01mreturn\u001b[39;00m \u001b[38;5;28;01mFalse\u001b[39;00m\n",
      "\u001b[1;31mAttributeError\u001b[0m: 'WebElement' object has no attribute 'scroll'"
     ]
    }
   ],
   "source": [
    "# test_bot.pass_contact_details()\n",
    "# time.sleep(5)\n",
    "\n",
    "test_bot.pass_extra_stage(\"JB321623C\")\n",
    "time.sleep(5)\n",
    "\n",
    "test_bot.pass_savings_income_stage()\n",
    "time.sleep(5)\n",
    "\n",
    "test_bot.pass_equality_stage()\n",
    "time.sleep(5)\n",
    "\n",
    "test_bot.pass_confirm_details_stage()"
   ]
  },
  {
   "cell_type": "code",
   "execution_count": 4,
   "id": "bca7346d-5298-4ba5-b8e2-ca3f42cc52a7",
   "metadata": {},
   "outputs": [],
   "source": [
    "# Testing is_available functions\n",
    "from selenium.webdriver.support.ui import WebDriverWait\n",
    "from selenium.webdriver.support import expected_conditions as EC\n",
    "from selenium.common.exceptions  import TimeoutException\n",
    "\n",
    "def is_listing_available(id):\n",
    "    if str(id) not in test_bot.driver.current_url:\n",
    "        test_bot.driver.get(f\"https://homes.midlandheart.org.uk/Search.PropertyDetails.aspx?PropertyId={id}\")\n",
    "        \n",
    "        \n",
    "    wait = WebDriverWait(test_bot.driver, 30)\n",
    "    \n",
    "    try:\n",
    "        # Wait for either \"Apply Now\" button or \"Submit Application\" button to be visible on the page.\n",
    "        apply_button = (By.XPATH, '//input[@value=\"Apply Now\"]')\n",
    "        continue_button = (By.XPATH, '//input[@value=\"Continue Application\"]')\n",
    "        print(\"Waiting for listing to become available\")\n",
    "    \n",
    "        # Wait for any of the two buttons to be visible.\n",
    "        visible_button = wait.until(EC.any_of(EC.presence_of_element_located(apply_button),\n",
    "                                               EC.presence_of_element_located(continue_button)\n",
    "                                               ))\n",
    "    \n",
    "        # Click the button that became visible.\n",
    "        visible_button.click()\n",
    "    \n",
    "        # Perform the corresponding application process here (filling out forms, etc.).\n",
    "        return True\n",
    "    \n",
    "    except TimeoutException:\n",
    "        # If neither of the buttons becomes visible within the specified timeout (30 seconds),\n",
    "        # the WebDriverWait will raise a TimeoutException, and the script will come here.\n",
    "        print(\n",
    "            \"Neither the Continue Application button nor the 'Submit Application' button became visible.\")\n",
    "    \n",
    "        return False"
   ]
  },
  {
   "cell_type": "code",
   "execution_count": null,
   "id": "115a7bf3-c70a-4844-9f90-9751d542572f",
   "metadata": {},
   "outputs": [],
   "source": [
    "## Login then get the listing\n",
    "# Check to see if the current listing is available and the user is logged in\n",
    "\n",
    "# test_id = 3337\n",
    "# # # test_bot.login_to_website()\n",
    "\n",
    "# if test_bot.login_success():\n",
    "#     status = is_listing_available(test_id)\n",
    "#     print(status)\n",
    "# else:\n",
    "#     test_bot.login_to_website()\n",
    "\n",
    "test_bot.get_results_for_city()\n",
    "for i in range(10):\n",
    "    time.sleep(300)\n",
    "    status = is_listing_available(test_id)\n",
    "    print(status)\n",
    "    \n",
    "\n",
    "# test_bot.driver.refresh()"
   ]
  },
  {
   "cell_type": "markdown",
   "id": "b5a70730-6564-484d-92f0-7ebacc72a1a6",
   "metadata": {
    "jp-MarkdownHeadingCollapsed": true
   },
   "source": [
    "## Create Function that get's a listing Id   "
   ]
  },
  {
   "cell_type": "code",
   "execution_count": 7,
   "id": "359be6bd-ccbb-4db1-8437-8d4d49e5daf3",
   "metadata": {},
   "outputs": [
    {
     "name": "stdout",
     "output_type": "stream",
     "text": [
      "https://homes.midlandheart.org.uk/Search.PropertyDetails.aspx?PropertyId=3307\n",
      "3307\n"
     ]
    }
   ],
   "source": [
    "# #Click on listing\n",
    "# results[0].click()\n",
    "\n",
    "# Switch to the active tab that the listing has been opened on\n",
    "test_bot.driver.switch_to.window(test_bot.driver.window_handles[-1])\n",
    "\n",
    "# get the addres and extract the listingId from the address\n",
    "sample_id = 0\n",
    "print(test_bot.driver.current_url)\n",
    "url = test_bot.driver.current_url\n",
    "if 'PropertyId' in url:\n",
    "    id = url.split(\"=\")[-1]\n",
    "    sample_id = id\n",
    "    print(id)\n",
    "\n",
    "#print out the listing number.\n"
   ]
  },
  {
   "cell_type": "code",
   "execution_count": 23,
   "id": "8ac1dc56-0caf-4690-a4aa-46b9c448e1bb",
   "metadata": {},
   "outputs": [],
   "source": [
    "# # Monitor Listing with listing page.\n",
    "# # Function to check if the listing is available\n",
    "# def is_listing_available(driver):\n",
    "#     try:\n",
    "#         # Check if the \"Coming soon\" message is present\n",
    "#         element = driver.find_element(By.XPATH, '//span[contains(text(), \"Coming soon\")]')\n",
    "#         return False\n",
    "#     except:\n",
    "#         # If the \"Coming soon\" message is not found, the listing is available\n",
    "#         return True"
   ]
  },
  {
   "cell_type": "code",
   "execution_count": null,
   "id": "10294e91-149f-4776-92e5-56221e679978",
   "metadata": {},
   "outputs": [],
   "source": []
  },
  {
   "cell_type": "code",
   "execution_count": null,
   "id": "ac217664-c5d9-4ec3-8764-46345a36204f",
   "metadata": {},
   "outputs": [],
   "source": [
    "listing_status = test_bot.is_listing_available(sample_id)\n",
    "print(listing_status)"
   ]
  },
  {
   "cell_type": "markdown",
   "id": "cac153a2-a275-4e25-abc4-7444e977d0da",
   "metadata": {},
   "source": [
    "## Test the is_available_functions\n",
    "### This function is for chcecking when a listing becomes available, Here we defint the function first then, Test it in the next step"
   ]
  },
  {
   "cell_type": "code",
   "execution_count": 6,
   "id": "5abadc9c-0d3d-4103-9d29-84242de6e0a5",
   "metadata": {},
   "outputs": [],
   "source": [
    "# Testing is_available functions\n",
    "from selenium.webdriver.support.ui import WebDriverWait\n",
    "from selenium.webdriver.support import expected_conditions as EC\n",
    "from selenium.common.exceptions  import TimeoutException\n",
    "\n",
    "def is_listing_available(id):\n",
    "    if str(id) not in test_bot.driver.current_url:\n",
    "        test_bot.driver.get(f\"https://homes.midlandheart.org.uk/Search.PropertyDetails.aspx?PropertyId={id}\")\n",
    "        \n",
    "        \n",
    "    wait = WebDriverWait(test_bot.driver, 30)\n",
    "    \n",
    "    try:\n",
    "        # Wait for either \"Apply Now\" button or \"Submit Application\" button to be visible on the page.\n",
    "        apply_button = (By.XPATH, '//input[@value=\"Apply Now\"]')\n",
    "        continue_button = (By.XPATH, '//input[@value=\"Continue Application\"]')\n",
    "        print(\"Waiting for listing to become available\")\n",
    "    \n",
    "        # Wait for any of the two buttons to be visible.\n",
    "        visible_button = wait.until(EC.any_of(EC.presence_of_element_located(apply_button),\n",
    "                                               EC.presence_of_element_located(continue_button)\n",
    "                                               ))\n",
    "    \n",
    "        # Click the button that became visible.\n",
    "        visible_button.click()\n",
    "    \n",
    "        # Perform the corresponding application process here (filling out forms, etc.).\n",
    "        return True\n",
    "    \n",
    "    except TimeoutException:\n",
    "        # If neither of the buttons becomes visible within the specified timeout (30 seconds),\n",
    "        # the WebDriverWait will raise a TimeoutException, and the script will come here.\n",
    "        print(\n",
    "            \"Neither the Continue Application button nor the 'Submit Application' button became visible.\")\n",
    "    \n",
    "        return False"
   ]
  },
  {
   "cell_type": "markdown",
   "id": "d9f4134d-6240-43e2-9c3d-167a75cc3d9f",
   "metadata": {},
   "source": [
    "### Testing the is_avialable function "
   ]
  },
  {
   "cell_type": "code",
   "execution_count": null,
   "id": "aaff0b30-3f85-4622-b6cd-9c9891ce94b5",
   "metadata": {},
   "outputs": [],
   "source": [
    "# Check to see if the current listing is available and the user is logged in\n",
    "\n",
    "test_id = 3337\n",
    "# # test_bot.login_to_website()\n",
    "\n",
    "if test_bot.login_success():\n",
    "    status = is_listing_available(test_id)\n",
    "    print(status)\n",
    "else:\n",
    "    test_bot.login_to_website()\n",
    "\n",
    "\n",
    "# is_listing_available(3337)\n",
    "\n",
    "# test_bot.driver.refresh()"
   ]
  },
  {
   "cell_type": "markdown",
   "id": "4315c660-adc8-44c7-8178-33334727fdd2",
   "metadata": {},
   "source": [
    "## Writing the code for selecting the files to be uploaded"
   ]
  },
  {
   "cell_type": "code",
   "execution_count": null,
   "id": "7e6cc264-e008-49f5-8c24-5233953f3a98",
   "metadata": {},
   "outputs": [],
   "source": []
  },
  {
   "cell_type": "code",
   "execution_count": 5,
   "id": "77a0e183-28db-4d29-8626-9bc5746ee73f",
   "metadata": {},
   "outputs": [
    {
     "name": "stderr",
     "output_type": "stream",
     "text": [
      "2023-08-13 17:48:41,961 - INFO - Midland_logger - All requirements have been filled, Clicking button to proceed to next stage...\n"
     ]
    },
    {
     "name": "stdout",
     "output_type": "stream",
     "text": [
      "Contact Details | Midland Heart Homes\n"
     ]
    }
   ],
   "source": [
    "# Pass the contact section\n",
    "\n",
    "continue_button = test_bot.driver.find_element(By.XPATH, '//input[@type=\"submit\" and @value=\"Continue\"]')\n",
    "if test_bot.button_is_clickable(button_xpath='//input[@type=\"submit\" and @value=\"Continue\"]'):\n",
    "    test_bot.logger.info(\"All requirements have been filled, Clicking button to proceed to next stage...\")\n",
    "\n",
    "    test_bot.interact_and_click(continue_button)\n",
    "    # return True\n",
    "\n",
    "print(test_bot.driver.title)\n"
   ]
  },
  {
   "cell_type": "markdown",
   "id": "df2e82a5-5288-4ca0-9dcf-6890676b2130",
   "metadata": {},
   "source": [
    "# Pass all the of the other stages"
   ]
  },
  {
   "cell_type": "code",
   "execution_count": 6,
   "id": "c4801486-03a2-4701-bb45-35982e96a4ff",
   "metadata": {},
   "outputs": [
    {
     "name": "stderr",
     "output_type": "stream",
     "text": [
      "2023-08-13 17:51:06,985 - INFO - Midland_logger - Successfully loaded Extra Information page...\n",
      "2023-08-13 17:51:07,115 - INFO - Midland_logger - NI Number has been added to input.\n"
     ]
    }
   ],
   "source": [
    "test_bot.pass_extra_stage(\"JB321623C\")"
   ]
  },
  {
   "cell_type": "code",
   "execution_count": 9,
   "id": "7feb7983-8ae0-463b-bb2d-33f3b573a701",
   "metadata": {},
   "outputs": [
    {
     "name": "stderr",
     "output_type": "stream",
     "text": [
      "2023-08-13 17:52:36,792 - INFO - Midland_logger - This is not the valid page for this action.\n"
     ]
    }
   ],
   "source": [
    "test_bot.pass_savings_income_stage()"
   ]
  },
  {
   "cell_type": "code",
   "execution_count": 10,
   "id": "1620397b-7e17-4ca5-8e8e-94e7ac88a3b3",
   "metadata": {},
   "outputs": [
    {
     "name": "stderr",
     "output_type": "stream",
     "text": [
      "2023-08-13 17:52:59,523 - INFO - Midland_logger - Successfully loaded Equality page...\n",
      "2023-08-13 17:53:02,737 - INFO - Midland_logger - Continue button on this page is not clickable.\n"
     ]
    }
   ],
   "source": [
    "test_bot.pass_equality_stage()\n"
   ]
  },
  {
   "cell_type": "code",
   "execution_count": 11,
   "id": "0d112cd9-5fcf-4718-87ba-8380e2a2bbcf",
   "metadata": {},
   "outputs": [
    {
     "name": "stderr",
     "output_type": "stream",
     "text": [
      "2023-08-13 17:53:52,586 - INFO - Midland_logger - Successfully loaded Confirm page...\n"
     ]
    },
    {
     "ename": "ElementClickInterceptedException",
     "evalue": "Message: element click intercepted: Element <span class=\"btn\">...</span> is not clickable at point (1287, 935). Other element would receive the click: <input type=\"radio\" name=\"-1467239080\" id=\"MidlandHeartWeb_Theme_wt37_block_OutSystemsUIWeb_wt2_block_wtContent_wtMainContent_OutSystemsUIWeb_wt27_block_wtColumn2_OutSystemsUIWeb_wt54_block_wtContent_OutSystemsUIWeb_wtYes_block_wtLabel_wt33\" class=\"radio-button\" value=\"2\" onkeydown=\"return OsEnterKey('MidlandHeartWeb_Theme_wt37_block_OutSystemsUIWeb_wt2_block_wtContent_wtMainContent_OutSystemsUIWeb_wt24_block_wtColumn2_wt58', arguments[0] || window.event);\" tabindex=\"0\">\n  (Session info: chrome=115.0.5790.171)\nStacktrace:\nBacktrace:\n\tGetHandleVerifier [0x0111A813+48355]\n\t(No symbol) [0x010AC4B1]\n\t(No symbol) [0x00FB5358]\n\t(No symbol) [0x00FE5062]\n\t(No symbol) [0x00FE3B98]\n\t(No symbol) [0x00FE239B]\n\t(No symbol) [0x00FE179E]\n\t(No symbol) [0x00FD9F5C]\n\t(No symbol) [0x00FFA73C]\n\t(No symbol) [0x00FD9A36]\n\t(No symbol) [0x00FFAA94]\n\t(No symbol) [0x0100C922]\n\t(No symbol) [0x00FFA536]\n\t(No symbol) [0x00FD82DC]\n\t(No symbol) [0x00FD93DD]\n\tGetHandleVerifier [0x0137AABD+2539405]\n\tGetHandleVerifier [0x013BA78F+2800735]\n\tGetHandleVerifier [0x013B456C+2775612]\n\tGetHandleVerifier [0x011A51E0+616112]\n\t(No symbol) [0x010B5F8C]\n\t(No symbol) [0x010B2328]\n\t(No symbol) [0x010B240B]\n\t(No symbol) [0x010A4FF7]\n\tBaseThreadInitThunk [0x75347D59+25]\n\tRtlInitializeExceptionChain [0x776DB79B+107]\n\tRtlClearBits [0x776DB71F+191]\n",
     "output_type": "error",
     "traceback": [
      "\u001b[1;31m---------------------------------------------------------------------------\u001b[0m",
      "\u001b[1;31mElementClickInterceptedException\u001b[0m          Traceback (most recent call last)",
      "Cell \u001b[1;32mIn[11], line 1\u001b[0m\n\u001b[1;32m----> 1\u001b[0m \u001b[43mtest_bot\u001b[49m\u001b[38;5;241;43m.\u001b[39;49m\u001b[43mpass_confirm_details_stage\u001b[49m\u001b[43m(\u001b[49m\u001b[43m)\u001b[49m\n",
      "File \u001b[1;32m~\\PycharmProjects\\midland-heart-bot\\bot.py:688\u001b[0m, in \u001b[0;36mMidlandBot.pass_confirm_details_stage\u001b[1;34m(self)\u001b[0m\n\u001b[0;32m    685\u001b[0m \u001b[38;5;28;01mif\u001b[39;00m \u001b[38;5;28mself\u001b[39m\u001b[38;5;241m.\u001b[39mon_valid_page(\u001b[38;5;124m'\u001b[39m\u001b[38;5;124mConfirm\u001b[39m\u001b[38;5;124m'\u001b[39m):\n\u001b[0;32m    686\u001b[0m     \u001b[38;5;66;03m# Once we are the valid page we can click on the Yes button to verify\u001b[39;00m\n\u001b[0;32m    687\u001b[0m     yes_button \u001b[38;5;241m=\u001b[39m \u001b[38;5;28mself\u001b[39m\u001b[38;5;241m.\u001b[39mdriver\u001b[38;5;241m.\u001b[39mfind_element(By\u001b[38;5;241m.\u001b[39mXPATH, \u001b[38;5;124m'\u001b[39m\u001b[38;5;124m//span[@class=\u001b[39m\u001b[38;5;124m\"\u001b[39m\u001b[38;5;124mbtn\u001b[39m\u001b[38;5;124m\"\u001b[39m\u001b[38;5;124m and contains(text(), \u001b[39m\u001b[38;5;124m\"\u001b[39m\u001b[38;5;124mYes\u001b[39m\u001b[38;5;124m\"\u001b[39m\u001b[38;5;124m)]\u001b[39m\u001b[38;5;124m'\u001b[39m)\n\u001b[1;32m--> 688\u001b[0m     \u001b[38;5;28;43mself\u001b[39;49m\u001b[38;5;241;43m.\u001b[39;49m\u001b[43minteract_and_click\u001b[49m\u001b[43m(\u001b[49m\u001b[43myes_button\u001b[49m\u001b[43m)\u001b[49m\n\u001b[0;32m    690\u001b[0m     submit_button \u001b[38;5;241m=\u001b[39m \u001b[38;5;28mself\u001b[39m\u001b[38;5;241m.\u001b[39mdriver\u001b[38;5;241m.\u001b[39mfind_element(By\u001b[38;5;241m.\u001b[39mXPATH, \u001b[38;5;124m'\u001b[39m\u001b[38;5;124m//input[@type=\u001b[39m\u001b[38;5;124m\"\u001b[39m\u001b[38;5;124msubmit\u001b[39m\u001b[38;5;124m\"\u001b[39m\u001b[38;5;124m and @value=\u001b[39m\u001b[38;5;124m\"\u001b[39m\u001b[38;5;124mSubmit\u001b[39m\u001b[38;5;124m\"\u001b[39m\u001b[38;5;124m]\u001b[39m\u001b[38;5;124m'\u001b[39m)\n\u001b[0;32m    691\u001b[0m     \u001b[38;5;28mself\u001b[39m\u001b[38;5;241m.\u001b[39mlogger\u001b[38;5;241m.\u001b[39minfo(\u001b[38;5;124m\"\u001b[39m\u001b[38;5;124mIt works, I cannot submit it now...\u001b[39m\u001b[38;5;124m\"\u001b[39m)\n",
      "File \u001b[1;32m~\\PycharmProjects\\midland-heart-bot\\bot.py:541\u001b[0m, in \u001b[0;36mMidlandBot.interact_and_click\u001b[1;34m(self, element)\u001b[0m\n\u001b[0;32m    539\u001b[0m \u001b[38;5;28mself\u001b[39m\u001b[38;5;241m.\u001b[39maction\u001b[38;5;241m.\u001b[39mmove_to_element(element)\n\u001b[0;32m    540\u001b[0m time\u001b[38;5;241m.\u001b[39msleep(randint(\u001b[38;5;241m0\u001b[39m, \u001b[38;5;241m3\u001b[39m))\n\u001b[1;32m--> 541\u001b[0m \u001b[43melement\u001b[49m\u001b[38;5;241;43m.\u001b[39;49m\u001b[43mclick\u001b[49m\u001b[43m(\u001b[49m\u001b[43m)\u001b[49m\n",
      "File \u001b[1;32m~\\PycharmProjects\\midland-heart-bot\\venv\\Lib\\site-packages\\selenium\\webdriver\\remote\\webelement.py:94\u001b[0m, in \u001b[0;36mWebElement.click\u001b[1;34m(self)\u001b[0m\n\u001b[0;32m     92\u001b[0m \u001b[38;5;28;01mdef\u001b[39;00m \u001b[38;5;21mclick\u001b[39m(\u001b[38;5;28mself\u001b[39m) \u001b[38;5;241m-\u001b[39m\u001b[38;5;241m>\u001b[39m \u001b[38;5;28;01mNone\u001b[39;00m:\n\u001b[0;32m     93\u001b[0m \u001b[38;5;250m    \u001b[39m\u001b[38;5;124;03m\"\"\"Clicks the element.\"\"\"\u001b[39;00m\n\u001b[1;32m---> 94\u001b[0m     \u001b[38;5;28;43mself\u001b[39;49m\u001b[38;5;241;43m.\u001b[39;49m\u001b[43m_execute\u001b[49m\u001b[43m(\u001b[49m\u001b[43mCommand\u001b[49m\u001b[38;5;241;43m.\u001b[39;49m\u001b[43mCLICK_ELEMENT\u001b[49m\u001b[43m)\u001b[49m\n",
      "File \u001b[1;32m~\\PycharmProjects\\midland-heart-bot\\venv\\Lib\\site-packages\\selenium\\webdriver\\remote\\webelement.py:395\u001b[0m, in \u001b[0;36mWebElement._execute\u001b[1;34m(self, command, params)\u001b[0m\n\u001b[0;32m    393\u001b[0m     params \u001b[38;5;241m=\u001b[39m {}\n\u001b[0;32m    394\u001b[0m params[\u001b[38;5;124m\"\u001b[39m\u001b[38;5;124mid\u001b[39m\u001b[38;5;124m\"\u001b[39m] \u001b[38;5;241m=\u001b[39m \u001b[38;5;28mself\u001b[39m\u001b[38;5;241m.\u001b[39m_id\n\u001b[1;32m--> 395\u001b[0m \u001b[38;5;28;01mreturn\u001b[39;00m \u001b[38;5;28;43mself\u001b[39;49m\u001b[38;5;241;43m.\u001b[39;49m\u001b[43m_parent\u001b[49m\u001b[38;5;241;43m.\u001b[39;49m\u001b[43mexecute\u001b[49m\u001b[43m(\u001b[49m\u001b[43mcommand\u001b[49m\u001b[43m,\u001b[49m\u001b[43m \u001b[49m\u001b[43mparams\u001b[49m\u001b[43m)\u001b[49m\n",
      "File \u001b[1;32m~\\PycharmProjects\\midland-heart-bot\\venv\\Lib\\site-packages\\selenium\\webdriver\\remote\\webdriver.py:346\u001b[0m, in \u001b[0;36mWebDriver.execute\u001b[1;34m(self, driver_command, params)\u001b[0m\n\u001b[0;32m    344\u001b[0m response \u001b[38;5;241m=\u001b[39m \u001b[38;5;28mself\u001b[39m\u001b[38;5;241m.\u001b[39mcommand_executor\u001b[38;5;241m.\u001b[39mexecute(driver_command, params)\n\u001b[0;32m    345\u001b[0m \u001b[38;5;28;01mif\u001b[39;00m response:\n\u001b[1;32m--> 346\u001b[0m     \u001b[38;5;28;43mself\u001b[39;49m\u001b[38;5;241;43m.\u001b[39;49m\u001b[43merror_handler\u001b[49m\u001b[38;5;241;43m.\u001b[39;49m\u001b[43mcheck_response\u001b[49m\u001b[43m(\u001b[49m\u001b[43mresponse\u001b[49m\u001b[43m)\u001b[49m\n\u001b[0;32m    347\u001b[0m     response[\u001b[38;5;124m\"\u001b[39m\u001b[38;5;124mvalue\u001b[39m\u001b[38;5;124m\"\u001b[39m] \u001b[38;5;241m=\u001b[39m \u001b[38;5;28mself\u001b[39m\u001b[38;5;241m.\u001b[39m_unwrap_value(response\u001b[38;5;241m.\u001b[39mget(\u001b[38;5;124m\"\u001b[39m\u001b[38;5;124mvalue\u001b[39m\u001b[38;5;124m\"\u001b[39m, \u001b[38;5;28;01mNone\u001b[39;00m))\n\u001b[0;32m    348\u001b[0m     \u001b[38;5;28;01mreturn\u001b[39;00m response\n",
      "File \u001b[1;32m~\\PycharmProjects\\midland-heart-bot\\venv\\Lib\\site-packages\\selenium\\webdriver\\remote\\errorhandler.py:245\u001b[0m, in \u001b[0;36mErrorHandler.check_response\u001b[1;34m(self, response)\u001b[0m\n\u001b[0;32m    243\u001b[0m         alert_text \u001b[38;5;241m=\u001b[39m value[\u001b[38;5;124m\"\u001b[39m\u001b[38;5;124malert\u001b[39m\u001b[38;5;124m\"\u001b[39m]\u001b[38;5;241m.\u001b[39mget(\u001b[38;5;124m\"\u001b[39m\u001b[38;5;124mtext\u001b[39m\u001b[38;5;124m\"\u001b[39m)\n\u001b[0;32m    244\u001b[0m     \u001b[38;5;28;01mraise\u001b[39;00m exception_class(message, screen, stacktrace, alert_text)  \u001b[38;5;66;03m# type: ignore[call-arg]  # mypy is not smart enough here\u001b[39;00m\n\u001b[1;32m--> 245\u001b[0m \u001b[38;5;28;01mraise\u001b[39;00m exception_class(message, screen, stacktrace)\n",
      "\u001b[1;31mElementClickInterceptedException\u001b[0m: Message: element click intercepted: Element <span class=\"btn\">...</span> is not clickable at point (1287, 935). Other element would receive the click: <input type=\"radio\" name=\"-1467239080\" id=\"MidlandHeartWeb_Theme_wt37_block_OutSystemsUIWeb_wt2_block_wtContent_wtMainContent_OutSystemsUIWeb_wt27_block_wtColumn2_OutSystemsUIWeb_wt54_block_wtContent_OutSystemsUIWeb_wtYes_block_wtLabel_wt33\" class=\"radio-button\" value=\"2\" onkeydown=\"return OsEnterKey('MidlandHeartWeb_Theme_wt37_block_OutSystemsUIWeb_wt2_block_wtContent_wtMainContent_OutSystemsUIWeb_wt24_block_wtColumn2_wt58', arguments[0] || window.event);\" tabindex=\"0\">\n  (Session info: chrome=115.0.5790.171)\nStacktrace:\nBacktrace:\n\tGetHandleVerifier [0x0111A813+48355]\n\t(No symbol) [0x010AC4B1]\n\t(No symbol) [0x00FB5358]\n\t(No symbol) [0x00FE5062]\n\t(No symbol) [0x00FE3B98]\n\t(No symbol) [0x00FE239B]\n\t(No symbol) [0x00FE179E]\n\t(No symbol) [0x00FD9F5C]\n\t(No symbol) [0x00FFA73C]\n\t(No symbol) [0x00FD9A36]\n\t(No symbol) [0x00FFAA94]\n\t(No symbol) [0x0100C922]\n\t(No symbol) [0x00FFA536]\n\t(No symbol) [0x00FD82DC]\n\t(No symbol) [0x00FD93DD]\n\tGetHandleVerifier [0x0137AABD+2539405]\n\tGetHandleVerifier [0x013BA78F+2800735]\n\tGetHandleVerifier [0x013B456C+2775612]\n\tGetHandleVerifier [0x011A51E0+616112]\n\t(No symbol) [0x010B5F8C]\n\t(No symbol) [0x010B2328]\n\t(No symbol) [0x010B240B]\n\t(No symbol) [0x010A4FF7]\n\tBaseThreadInitThunk [0x75347D59+25]\n\tRtlInitializeExceptionChain [0x776DB79B+107]\n\tRtlClearBits [0x776DB71F+191]\n"
     ]
    }
   ],
   "source": [
    "test_bot.pass_confirm_details_stage()"
   ]
  },
  {
   "cell_type": "code",
   "execution_count": 9,
   "id": "fbcfa015-1868-4cb4-87d7-86a44e60bb16",
   "metadata": {},
   "outputs": [
    {
     "name": "stderr",
     "output_type": "stream",
     "text": [
      "2023-08-14 11:51:14,945 - INFO - Midland_logger - It works, I cannot submit it now...\n"
     ]
    }
   ],
   "source": [
    "yes_button = test_bot.driver.find_element(By.XPATH, '//input[@type=\"radio\" and @value=\"2\"]')\n",
    "\n",
    "test_bot.interact_and_click(yes_button)\n",
    "\n",
    "submit_button = test_bot.driver.find_element(By.XPATH, '//input[@type=\"submit\" and @value=\"Submit\"]')\n",
    "test_bot.logger.info(\"It works, I cannot submit it now...\")\n",
    "# submit_button.click()"
   ]
  },
  {
   "cell_type": "code",
   "execution_count": 12,
   "id": "445d8abe-2155-454b-9d0c-f7dc982a2939",
   "metadata": {},
   "outputs": [
    {
     "name": "stdout",
     "output_type": "stream",
     "text": [
      "\n",
      "Constitution Hill, Birmingham, B19 3LY\n",
      "It's Heree!!\n",
      "\n",
      "Great Hampton Street, Birmingham, B18 6EN\n",
      "It's Heree!!\n",
      "\n",
      "Arden Grove, Birmingham, B16 8HG\n",
      "It's Heree!!\n",
      "\n",
      "Francis Road, Birmingham, B16 8SN\n",
      "It's Heree!!\n",
      "\n",
      "College Road, Birmingham, B8 3TD\n",
      "It's Heree!!\n",
      "\n",
      "Wright Road, Birmingham, B8 1NS\n",
      "It's Heree!!\n",
      "\n",
      "Woodstock Road, Birmingham, B13 9BD\n",
      "It's Heree!!\n",
      "\n",
      "Gravelly Hill, Birmingham, B23 7NP\n",
      "It's Heree!!\n",
      "\n",
      "Queens Close, Birmingham, B24 8RJ\n",
      "It's Heree!!\n",
      "\n",
      "Sampson Close, Birmingham, B21 8NZ\n",
      "It's Heree!!\n",
      "\n",
      "Station Road, Birmingham, B33 8RS\n",
      "Found entry for today --> Station Road, Birmingham, B33 8RS, Coming soon, available on Friday 28 July between 9am and 12pm \n",
      "1 bedroom flat3.59 mi\n",
      "Station Road, Birmingham, B33 8RS\n",
      "We will give you priority for this home if you:\n",
      " are in housing need and meet our eligibility criteria for rehousing\n",
      "One bedroom flat in Stetchford\n",
      "Coming soon, available on Friday 28 July between 9am and 12pm\n",
      "It's Heree!!\n",
      "\n",
      "Great Arthur Street, Smethwick, B66 1DH\n",
      "It's Heree!!\n",
      "\n",
      "Greenhill Drive, Birmingham, B29 6RE\n",
      "It's Heree!!\n",
      "\n",
      "Tillyard Croft, Birmingham, B29 5AH\n",
      "It's Heree!!\n",
      "\n",
      "Dulwich Road, Birmingham, B44 0ES\n",
      "It's Heree!!\n",
      "\n",
      "Dulwich Road, Birmingham, B44 0ES\n",
      "It's Heree!!\n",
      "\n",
      "Beeches Road, West Bromwich, B70 6HJ\n",
      "It's Heree!!\n",
      "\n",
      "Bowling Green Close, Birmingham, B23 5QU\n",
      "It's Heree!!\n",
      "\n",
      "Beeches Road, West Bromwich, B70 6HJ\n",
      "It's Heree!!\n",
      "\n",
      "Beeches Road, West Bromwich, B70 6HJ\n",
      "It's Heree!!\n",
      "\n",
      "Bloxcidge Street, Oldbury, B68 8QH\n",
      "It's Heree!!\n",
      "\n",
      "Woodbrooke Grove, Birmingham, B31 2FP\n",
      "It's Heree!!\n",
      "\n",
      "Greaves Square, Birmingham, B38 9LX\n",
      "It's Heree!!\n",
      "\n",
      "Old Meeting Street, West Bromwich, B70 9SZ\n",
      "It's Heree!!\n",
      "\n",
      "Old Meeting Street, West Bromwich, B70 9SZ\n",
      "It's Heree!!\n",
      "\n",
      "Wiltshire Way, West Bromwich, B71 1JR\n",
      "It's Heree!!\n",
      "\n",
      "Orchard Road, Walsall, WS5 4HY\n",
      "It's Heree!!\n",
      "\n",
      "Portway Road, Rowley Regis, B65 9DB\n",
      "It's Heree!!\n",
      "\n",
      "Kendrick Street, Wednesbury, WS10 9EP\n",
      "It's Heree!!\n",
      "\n",
      "Corser Street, Dudley, DY1 2QR\n",
      "It's Heree!!\n",
      "\n",
      "Briarwood Close, Wolverhampton, WV2 2LJ\n",
      "It's Heree!!\n",
      "\n",
      "Briarwood Close, Wolverhampton, WV2 2LJ\n",
      "It's Heree!!\n",
      "\n",
      "Briarwood Close, Wolverhampton, WV2 2LJ\n",
      "It's Heree!!\n",
      "\n",
      "Hailes Park Close, Wolverhampton, WV4 6EQ\n",
      "It's Heree!!\n",
      "\n",
      "Hailes Park Close, Wolverhampton, WV4 6EA\n",
      "It's Heree!!\n",
      "\n",
      "Knox Road, Wolverhampton, WV2 3EG\n",
      "It's Heree!!\n",
      "\n",
      "Oaks Crescent, Wolverhampton, WV3 9SL\n",
      "It's Heree!!\n",
      "\n",
      "Waterloo Road, Wolverhampton, WV1 4QG\n",
      "It's Heree!!\n",
      "\n",
      "High Street, Wombourne, WV5 9JW\n",
      "It's Heree!!\n",
      "\n",
      "Leven Road, Tamworth, B77 2TG\n",
      "It's Heree!!\n",
      "\n",
      "Newhampton Road East, Wolverhampton, WV1 4AU\n",
      "It's Heree!!\n",
      "\n",
      "Chester Street, Wolverhampton, WV6 0PZ\n",
      "It's Heree!!\n",
      "\n",
      "Chester Street, Wolverhampton, WV6 0PZ\n",
      "It's Heree!!\n",
      "\n",
      "Firsbrook Close, Wolverhampton, WV6 0UD\n",
      "It's Heree!!\n",
      "\n",
      "Dimbles Lane, Lichfield, WS13 7HN\n",
      "It's Heree!!\n",
      "\n",
      "Church Street, Cannock, WS11 1DQ\n",
      "It's Heree!!\n",
      "\n",
      "Pye Green Road, Cannock, WS11 5UL\n",
      "It's Heree!!\n",
      "\n",
      "St Thomas Court, Coventry, CV1 3GH\n",
      "It's Heree!!\n",
      "\n",
      "Lythalls Lane, Coventry, CV6 6FN\n",
      "It's Heree!!\n",
      "\n",
      "Lythalls Lane, Coventry, CV6 6FN\n",
      "It's Heree!!\n",
      "\n",
      "Kirby Close, Coventry, CV1 4NL\n",
      "It's Heree!!\n",
      "\n",
      "Mill House Court, Coventry, CV6 5TS\n",
      "It's Heree!!\n",
      "\n",
      "Crabmill Lane, Coventry, CV6 5HB\n",
      "It's Heree!!\n",
      "\n",
      "Crabmill Lane, Coventry, CV6 5HB\n",
      "It's Heree!!\n",
      "\n",
      "Crabmill Lane, Coventry, CV6 5HB\n",
      "It's Heree!!\n",
      "\n",
      "School Close, Coventry, CV3 1LS\n",
      "It's Heree!!\n",
      "\n",
      "Anson Street, Rugeley, WS15 2BB\n",
      "It's Heree!!\n",
      "\n",
      "Manfield Avenue, Coventry, CV2 2QE\n",
      "It's Heree!!\n"
     ]
    }
   ],
   "source": [
    "# valid_listings = []\n",
    "# for result in results:\n",
    "#     # print(result.text)\n",
    "#     print(\"\")\n",
    "#     # listing_description = result.find_element(By.XPATH, f'//div/div[2]/div/div/div[2]')\n",
    "#     listing_description_2 = result.find_element(By.CLASS_NAME, \"text-neutral-6\")\n",
    "#     listing_name = result.find_element(By.CLASS_NAME, \"text-neutral-8\")\n",
    "#     print(listing_name.text)\n",
    "#     # print(listing_description_2.text)\n",
    "    \n",
    "\n",
    "#     if 'Friday 28 July' in result.text:\n",
    "#         print(f\"Found entry for today --> {listing_name.text}, {listing_description_2.text} \")\n",
    "#         print(result.text)\n",
    "#         valid_listings.append(result)\n",
    "#     if listing_name.text in result.text:\n",
    "#         print(\"It's Heree!!\")\n",
    "    "
   ]
  },
  {
   "cell_type": "code",
   "execution_count": null,
   "id": "95198d32-1f7d-4750-a40b-d47d9e750ff1",
   "metadata": {},
   "outputs": [],
   "source": []
  },
  {
   "cell_type": "code",
   "execution_count": 7,
   "id": "1877b04d-1235-4641-b455-f9e629a1596b",
   "metadata": {},
   "outputs": [
    {
     "name": "stdout",
     "output_type": "stream",
     "text": [
      "[<selenium.webdriver.remote.webelement.WebElement (session=\"deea3c78fe1e961a9c83ee41f3945f72\", element=\"E82426996E18EA492BDEAC8D41A4773D_element_172\")>]\n"
     ]
    }
   ],
   "source": [
    "print(valid_listings)"
   ]
  },
  {
   "cell_type": "code",
   "execution_count": 6,
   "id": "8315fd10-c28b-4f07-bec9-0b9b3de9f21c",
   "metadata": {},
   "outputs": [
    {
     "name": "stdout",
     "output_type": "stream",
     "text": [
      "Searching for listings for Friday 28 July...\n",
      "Found 1 / 58 listings for today...\n",
      "{'sel_object': <selenium.webdriver.remote.webelement.WebElement (session=\"c345a78137b1cdcc457d1b3fe5d7fcdb\", element=\"68177AE2BE0DCC0BB863D0D569D24617_element_410\")>, 'availble': None, 'valid': True, 'available': False}\n",
      "Lisiting still not available...\n",
      "Searching for listings for Friday 28 July...\n",
      "Found 1 / 58 listings for today...\n",
      "{'sel_object': <selenium.webdriver.remote.webelement.WebElement (session=\"c345a78137b1cdcc457d1b3fe5d7fcdb\", element=\"80C45D1C8FA3D5BEA2C0CBC03FD5E507_element_588\")>, 'availble': None, 'valid': True, 'available': False}\n",
      "Lisiting still not available...\n",
      "Searching for listings for Friday 28 July...\n",
      "Found 1 / 58 listings for today...\n",
      "{'sel_object': <selenium.webdriver.remote.webelement.WebElement (session=\"c345a78137b1cdcc457d1b3fe5d7fcdb\", element=\"79584BB2D2E07937C5D548F983430305_element_776\")>, 'availble': None, 'valid': True, 'available': False}\n",
      "Lisiting still not available...\n",
      "Searching for listings for Friday 28 July...\n",
      "Found 1 / 58 listings for today...\n",
      "{'sel_object': <selenium.webdriver.remote.webelement.WebElement (session=\"c345a78137b1cdcc457d1b3fe5d7fcdb\", element=\"675CB78B16E2BAA661042BA93B7EC370_element_945\")>, 'availble': None, 'valid': True, 'available': True}\n",
      "Listing has become available... Preparing to place order\n"
     ]
    }
   ],
   "source": [
    "# listing_available = False\n",
    "\n",
    "# while not listing_available:\n",
    "    \n",
    "#     # get listings for today \n",
    "#     test_bot.driver.refresh()\n",
    "#     time.sleep(30)\n",
    "#     valid_results = test_bot.get_listings_for_today()\n",
    "#     if len(valid_results) == 0:\n",
    "#         print(\"No Valid Listing for today...\")\n",
    "#         break\n",
    "\n",
    "#     for listing in valid_results:\n",
    "#         print(listing)\n",
    "#         # check if the listing has become available\n",
    "#         listing_description_2 = listing['sel_object'].find_element(By.CLASS_NAME, \"text-neutral-6\")\n",
    "#         if listing['available']:\n",
    "#             print(\"Listing has become available... Preparing to place order\")\n",
    "#             listing_available = True\n",
    "#             listing['sel_object'].click()\n",
    "#             break\n",
    "#         else:\n",
    "#             print(\"Lisiting still not available...\")"
   ]
  },
  {
   "cell_type": "raw",
   "id": "350b048d-7675-499b-a1f5-6da0444b8fdf",
   "metadata": {},
   "source": [
    "Added on 28/07/2023"
   ]
  },
  {
   "cell_type": "code",
   "execution_count": 3,
   "id": "3c55463d-2837-4ab9-be11-63559c0f5943",
   "metadata": {},
   "outputs": [
    {
     "name": "stdout",
     "output_type": "stream",
     "text": [
      "Attempting to Load cookies..\n",
      "loading cookie\n",
      "loading cookie\n",
      "loading cookie\n",
      "loading cookie\n",
      "loading cookie\n",
      "loading cookie\n",
      "loading cookie\n",
      "loading cookie\n",
      "loading cookie\n",
      "loading cookie\n",
      "loading cookie\n",
      "loading cookie\n",
      "loading cookie\n",
      "loading cookie\n",
      "loading cookie\n",
      "loading cookie\n",
      "loading cookie\n",
      "loading cookie\n",
      "loading cookie\n",
      "loading cookie\n",
      "loading cookie\n",
      "loading cookie\n",
      "loading cookie\n",
      "loading cookie\n",
      "loading cookie\n",
      "Loaded cookies from previous session...\n",
      "Checking if user is logged in...\n",
      "User not Logged in...\n",
      "Attempting to login to website...\n",
      "Checking if user is logged in...\n",
      "Succesfully logged in...\n",
      "Cookies saved successfully...\n",
      "Checking if user is logged in...\n",
      "Succesfully logged in...\n"
     ]
    },
    {
     "data": {
      "text/plain": [
       "True"
      ]
     },
     "execution_count": 3,
     "metadata": {},
     "output_type": "execute_result"
    }
   ],
   "source": [
    "test_bot.login_to_website()"
   ]
  },
  {
   "cell_type": "code",
   "execution_count": 29,
   "id": "fe87502b-dd56-4f01-8d52-bd94c61c7428",
   "metadata": {},
   "outputs": [],
   "source": [
    "# test_bot.driver.execute_script(f'''window.open(\"{test_bot.home_page}\",\"_blank\");''')\n",
    "# time.sleep(2)\n",
    "# test_bot.driver.switch_to.window(test_bot.driver.window_handles[-1])"
   ]
  },
  {
   "cell_type": "code",
   "execution_count": 26,
   "id": "46eb4ba1-416e-4ae3-83bd-d311b02bd196",
   "metadata": {},
   "outputs": [],
   "source": []
  },
  {
   "cell_type": "code",
   "execution_count": null,
   "id": "88167224-b7e1-4ef4-9cf7-0957911f62bc",
   "metadata": {},
   "outputs": [],
   "source": []
  }
 ],
 "metadata": {
  "kernelspec": {
   "display_name": "Python 3 (ipykernel)",
   "language": "python",
   "name": "python3"
  },
  "language_info": {
   "codemirror_mode": {
    "name": "ipython",
    "version": 3
   },
   "file_extension": ".py",
   "mimetype": "text/x-python",
   "name": "python",
   "nbconvert_exporter": "python",
   "pygments_lexer": "ipython3",
   "version": "3.11.2"
  }
 },
 "nbformat": 4,
 "nbformat_minor": 5
}
